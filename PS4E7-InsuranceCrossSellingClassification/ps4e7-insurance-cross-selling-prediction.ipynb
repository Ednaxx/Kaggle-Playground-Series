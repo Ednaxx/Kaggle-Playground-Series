{
 "cells": [
  {
   "cell_type": "markdown",
   "id": "b87ae5ad-1133-44ee-9ee9-ed4d6e1f43cd",
   "metadata": {},
   "source": [
    "# PS4E7 - Binary Classification of Insurance Cross Selling 🤝"
   ]
  },
  {
   "cell_type": "markdown",
   "id": "1c28f0b2-6ee9-4da4-b46b-f9c853a77459",
   "metadata": {},
   "source": [
    "# Setup"
   ]
  },
  {
   "cell_type": "code",
   "execution_count": 33,
   "id": "1d879fbf-6ec1-4209-accf-48fc8640663d",
   "metadata": {},
   "outputs": [],
   "source": [
    "import warnings\n",
    "warnings.filterwarnings('ignore')"
   ]
  },
  {
   "cell_type": "code",
   "execution_count": 34,
   "id": "5e19905a-487c-436b-85fc-33307e431c76",
   "metadata": {},
   "outputs": [],
   "source": [
    "import pandas as pd\n",
    "import numpy as np\n",
    "import matplotlib.pyplot as plt\n",
    "import seaborn as sns\n",
    "\n",
    "from sklearn.feature_selection import mutual_info_regression\n",
    "\n",
    "from sklearn.model_selection import cross_val_score\n",
    "\n",
    "from sklearn.ensemble import RandomForestClassifier\n",
    "\n",
    "from xgboost import XGBClassifier\n",
    "import xgboost\n",
    "\n",
    "from lightgbm import LGBMClassifier\n",
    "import lightgbm"
   ]
  },
  {
   "cell_type": "code",
   "execution_count": 35,
   "id": "af7f4cca-934a-4c97-b80b-006a546f81bd",
   "metadata": {},
   "outputs": [],
   "source": [
    "train = pd.read_csv(\"./input/train.csv\", index_col=\"id\")\n",
    "test = pd.read_csv(\"./input/test.csv\", index_col=\"id\")\n",
    "\n",
    "original_train = pd.read_csv(\"./input/original_train.csv\", index_col=\"id\")\n",
    "original_test = pd.read_csv(\"./input/original_test.csv\", index_col=\"id\")"
   ]
  },
  {
   "cell_type": "markdown",
   "id": "cfdd4937-500b-43b7-81e4-a309ccbd177c",
   "metadata": {},
   "source": [
    "# Dataset description"
   ]
  },
  {
   "cell_type": "markdown",
   "id": "6b16966c-d36c-4124-9d03-4ed9aea5886b",
   "metadata": {},
   "source": [
    "- id -> Unique ID for the customer;\n",
    "- Gender ->Gender of the customer;\n",
    "- Age ->Age of the customer;\n",
    "- Driving_License ->0 : Customer does not have DL, 1 : Customer already has DL;\n",
    "- Region_Code ->Unique code for the region of the customer;\n",
    "- Previously_Insured ->1 : Customer already has Vehicle Insurance, 0 : Customer doesn't have Vehicle Insurance;\n",
    "- Vehicle_Age ->Age of the Vehicle;\n",
    "- Vehicle_Damage ->1 : Customer got his/her vehicle damaged in the past. 0 : Customer didn't get his/her vehicle damaged in the past;\n",
    "- Annual_Premium ->The amount customer needs to pay as premium in the year;\n",
    "- Policy_Sales_Channel ->Anonymized Code for the channel of outreaching to the customer ie. Different Agents, Over Mail, Over Phone, In Person, etc;\n",
    "- Vintage ->Number of Days, Customer has been associated with the company;\n",
    "- Response ->1 : Customer is interested, 0 : Customer is not interested;\n",
    "\n",
    "Thanks to @gauravduttakiit for sharing [here](https://www.kaggle.com/competitions/playground-series-s4e7/discussion/515975)."
   ]
  },
  {
   "cell_type": "markdown",
   "id": "86dc7f6a-3dcb-4fcc-b10a-561370151415",
   "metadata": {},
   "source": [
    "# Transforming Data Types"
   ]
  },
  {
   "cell_type": "code",
   "execution_count": 36,
   "id": "8bd9ac6f-05b9-4dcb-b0d6-eb0f5d3dd926",
   "metadata": {},
   "outputs": [],
   "source": [
    "def transform_dtypes(data, is_train=False):\n",
    "    data[\"Gender\"] = data[\"Gender\"].apply(lambda x: True if x == \"Male\" else False)\n",
    "    data[\"Vehicle_Damage\"] = data[\"Vehicle_Damage\"].apply(lambda x: True if x == \"Yes\" else False)\n",
    "    data[[\"Driving_License\", \"Previously_Insured\"]] = data[[\"Driving_License\", \"Previously_Insured\"]].astype(\"bool\")\n",
    "    \n",
    "    data[[\"Region_Code\", \"Vehicle_Age\", \"Policy_Sales_Channel\"]] = data[[\"Region_Code\", \"Vehicle_Age\", \"Policy_Sales_Channel\"]].astype(\"category\")\n",
    "    \n",
    "    data[\"Age\"] = data[\"Age\"].astype(\"int8\")\n",
    "    data[\"Vintage\"] = data[\"Vintage\"].astype(\"int16\")\n",
    "\n",
    "    if is_train: data[\"Response\"] = data[\"Response\"].astype(\"bool\")"
   ]
  },
  {
   "cell_type": "markdown",
   "id": "d695e949-406b-407f-b369-260d17e25e11",
   "metadata": {},
   "source": [
    "## Synthetic"
   ]
  },
  {
   "cell_type": "code",
   "execution_count": 37,
   "id": "6b74d5f0-f766-4dc3-af44-4607eb3d3b5b",
   "metadata": {},
   "outputs": [
    {
     "name": "stdout",
     "output_type": "stream",
     "text": [
      "<class 'pandas.core.frame.DataFrame'>\n",
      "Index: 11504798 entries, 0 to 11504797\n",
      "Data columns (total 11 columns):\n",
      " #   Column                Dtype  \n",
      "---  ------                -----  \n",
      " 0   Gender                object \n",
      " 1   Age                   int64  \n",
      " 2   Driving_License       int64  \n",
      " 3   Region_Code           float64\n",
      " 4   Previously_Insured    int64  \n",
      " 5   Vehicle_Age           object \n",
      " 6   Vehicle_Damage        object \n",
      " 7   Annual_Premium        float64\n",
      " 8   Policy_Sales_Channel  float64\n",
      " 9   Vintage               int64  \n",
      " 10  Response              int64  \n",
      "dtypes: float64(3), int64(5), object(3)\n",
      "memory usage: 1.0+ GB\n"
     ]
    }
   ],
   "source": [
    "train.info()"
   ]
  },
  {
   "cell_type": "markdown",
   "id": "39746efa-d223-458f-9d37-788c8892e51a",
   "metadata": {},
   "source": [
    "Let's change some dtypes for optmization!"
   ]
  },
  {
   "cell_type": "code",
   "execution_count": 38,
   "id": "4315b81f-bb63-419d-9230-f0c59a8d90fe",
   "metadata": {},
   "outputs": [],
   "source": [
    "transform_dtypes(train, is_train=True)\n",
    "transform_dtypes(test)"
   ]
  },
  {
   "cell_type": "code",
   "execution_count": 39,
   "id": "e8b1b229-6f9e-4d09-9948-b8a740f21d66",
   "metadata": {},
   "outputs": [
    {
     "name": "stdout",
     "output_type": "stream",
     "text": [
      "<class 'pandas.core.frame.DataFrame'>\n",
      "Index: 11504798 entries, 0 to 11504797\n",
      "Data columns (total 11 columns):\n",
      " #   Column                Dtype   \n",
      "---  ------                -----   \n",
      " 0   Gender                bool    \n",
      " 1   Age                   int8    \n",
      " 2   Driving_License       bool    \n",
      " 3   Region_Code           category\n",
      " 4   Previously_Insured    bool    \n",
      " 5   Vehicle_Age           category\n",
      " 6   Vehicle_Damage        bool    \n",
      " 7   Annual_Premium        float64 \n",
      " 8   Policy_Sales_Channel  category\n",
      " 9   Vintage               int16   \n",
      " 10  Response              bool    \n",
      "dtypes: bool(5), category(3), float64(1), int16(1), int8(1)\n",
      "memory usage: 307.2 MB\n"
     ]
    }
   ],
   "source": [
    "train.info()"
   ]
  },
  {
   "cell_type": "markdown",
   "id": "873d56ab-4e68-4ec3-8e39-cae86d569ba9",
   "metadata": {},
   "source": [
    "## Original"
   ]
  },
  {
   "cell_type": "code",
   "execution_count": 40,
   "id": "41b70ec7-185a-4246-a175-6f23b0cb1b89",
   "metadata": {},
   "outputs": [],
   "source": [
    "transform_dtypes(original_train, is_train=True)\n",
    "transform_dtypes(original_test)"
   ]
  },
  {
   "cell_type": "code",
   "execution_count": 41,
   "id": "5f1b38e8-c855-4e2e-9d70-46174e0bf81f",
   "metadata": {},
   "outputs": [
    {
     "name": "stdout",
     "output_type": "stream",
     "text": [
      "<class 'pandas.core.frame.DataFrame'>\n",
      "Index: 381109 entries, 1 to 381109\n",
      "Data columns (total 11 columns):\n",
      " #   Column                Non-Null Count   Dtype   \n",
      "---  ------                --------------   -----   \n",
      " 0   Gender                381109 non-null  bool    \n",
      " 1   Age                   381109 non-null  int8    \n",
      " 2   Driving_License       381109 non-null  bool    \n",
      " 3   Region_Code           381109 non-null  category\n",
      " 4   Previously_Insured    381109 non-null  bool    \n",
      " 5   Vehicle_Age           381109 non-null  category\n",
      " 6   Vehicle_Damage        381109 non-null  bool    \n",
      " 7   Annual_Premium        381109 non-null  float64 \n",
      " 8   Policy_Sales_Channel  381109 non-null  category\n",
      " 9   Vintage               381109 non-null  int16   \n",
      " 10  Response              381109 non-null  bool    \n",
      "dtypes: bool(5), category(3), float64(1), int16(1), int8(1)\n",
      "memory usage: 10.2 MB\n"
     ]
    }
   ],
   "source": [
    "original_train.info()"
   ]
  },
  {
   "cell_type": "markdown",
   "id": "538daa9f-5efb-4c4e-9b05-f8bf7a399946",
   "metadata": {},
   "source": [
    "# Data in a glance"
   ]
  },
  {
   "cell_type": "markdown",
   "id": "59f1c9d1-5fef-4d18-9ddb-9df31e4c9106",
   "metadata": {},
   "source": [
    "## Train data"
   ]
  },
  {
   "cell_type": "code",
   "execution_count": 10,
   "id": "7476b24a-4eac-42e5-925b-50529ee9d636",
   "metadata": {},
   "outputs": [
    {
     "data": {
      "text/html": [
       "<div>\n",
       "<style scoped>\n",
       "    .dataframe tbody tr th:only-of-type {\n",
       "        vertical-align: middle;\n",
       "    }\n",
       "\n",
       "    .dataframe tbody tr th {\n",
       "        vertical-align: top;\n",
       "    }\n",
       "\n",
       "    .dataframe thead th {\n",
       "        text-align: right;\n",
       "    }\n",
       "</style>\n",
       "<table border=\"1\" class=\"dataframe\">\n",
       "  <thead>\n",
       "    <tr style=\"text-align: right;\">\n",
       "      <th></th>\n",
       "      <th>Gender</th>\n",
       "      <th>Age</th>\n",
       "      <th>Driving_License</th>\n",
       "      <th>Region_Code</th>\n",
       "      <th>Previously_Insured</th>\n",
       "      <th>Vehicle_Age</th>\n",
       "      <th>Vehicle_Damage</th>\n",
       "      <th>Annual_Premium</th>\n",
       "      <th>Policy_Sales_Channel</th>\n",
       "      <th>Vintage</th>\n",
       "      <th>Response</th>\n",
       "    </tr>\n",
       "    <tr>\n",
       "      <th>id</th>\n",
       "      <th></th>\n",
       "      <th></th>\n",
       "      <th></th>\n",
       "      <th></th>\n",
       "      <th></th>\n",
       "      <th></th>\n",
       "      <th></th>\n",
       "      <th></th>\n",
       "      <th></th>\n",
       "      <th></th>\n",
       "      <th></th>\n",
       "    </tr>\n",
       "  </thead>\n",
       "  <tbody>\n",
       "    <tr>\n",
       "      <th>0</th>\n",
       "      <td>True</td>\n",
       "      <td>21</td>\n",
       "      <td>True</td>\n",
       "      <td>35.0</td>\n",
       "      <td>False</td>\n",
       "      <td>1-2 Year</td>\n",
       "      <td>True</td>\n",
       "      <td>65101.0</td>\n",
       "      <td>124.0</td>\n",
       "      <td>187</td>\n",
       "      <td>False</td>\n",
       "    </tr>\n",
       "    <tr>\n",
       "      <th>1</th>\n",
       "      <td>True</td>\n",
       "      <td>43</td>\n",
       "      <td>True</td>\n",
       "      <td>28.0</td>\n",
       "      <td>False</td>\n",
       "      <td>&gt; 2 Years</td>\n",
       "      <td>True</td>\n",
       "      <td>58911.0</td>\n",
       "      <td>26.0</td>\n",
       "      <td>288</td>\n",
       "      <td>True</td>\n",
       "    </tr>\n",
       "    <tr>\n",
       "      <th>2</th>\n",
       "      <td>False</td>\n",
       "      <td>25</td>\n",
       "      <td>True</td>\n",
       "      <td>14.0</td>\n",
       "      <td>True</td>\n",
       "      <td>&lt; 1 Year</td>\n",
       "      <td>False</td>\n",
       "      <td>38043.0</td>\n",
       "      <td>152.0</td>\n",
       "      <td>254</td>\n",
       "      <td>False</td>\n",
       "    </tr>\n",
       "    <tr>\n",
       "      <th>3</th>\n",
       "      <td>False</td>\n",
       "      <td>35</td>\n",
       "      <td>True</td>\n",
       "      <td>1.0</td>\n",
       "      <td>False</td>\n",
       "      <td>1-2 Year</td>\n",
       "      <td>True</td>\n",
       "      <td>2630.0</td>\n",
       "      <td>156.0</td>\n",
       "      <td>76</td>\n",
       "      <td>False</td>\n",
       "    </tr>\n",
       "    <tr>\n",
       "      <th>4</th>\n",
       "      <td>False</td>\n",
       "      <td>36</td>\n",
       "      <td>True</td>\n",
       "      <td>15.0</td>\n",
       "      <td>True</td>\n",
       "      <td>1-2 Year</td>\n",
       "      <td>False</td>\n",
       "      <td>31951.0</td>\n",
       "      <td>152.0</td>\n",
       "      <td>294</td>\n",
       "      <td>False</td>\n",
       "    </tr>\n",
       "  </tbody>\n",
       "</table>\n",
       "</div>"
      ],
      "text/plain": [
       "    Gender  Age  Driving_License Region_Code  Previously_Insured Vehicle_Age  \\\n",
       "id                                                                             \n",
       "0     True   21             True        35.0               False    1-2 Year   \n",
       "1     True   43             True        28.0               False   > 2 Years   \n",
       "2    False   25             True        14.0                True    < 1 Year   \n",
       "3    False   35             True         1.0               False    1-2 Year   \n",
       "4    False   36             True        15.0                True    1-2 Year   \n",
       "\n",
       "    Vehicle_Damage  Annual_Premium Policy_Sales_Channel  Vintage  Response  \n",
       "id                                                                          \n",
       "0             True         65101.0                124.0      187     False  \n",
       "1             True         58911.0                 26.0      288      True  \n",
       "2            False         38043.0                152.0      254     False  \n",
       "3             True          2630.0                156.0       76     False  \n",
       "4            False         31951.0                152.0      294     False  "
      ]
     },
     "execution_count": 10,
     "metadata": {},
     "output_type": "execute_result"
    }
   ],
   "source": [
    "train.head()"
   ]
  },
  {
   "cell_type": "code",
   "execution_count": 11,
   "id": "02c6d57e-5832-4664-8cce-337f868875a8",
   "metadata": {},
   "outputs": [
    {
     "data": {
      "text/html": [
       "<div>\n",
       "<style scoped>\n",
       "    .dataframe tbody tr th:only-of-type {\n",
       "        vertical-align: middle;\n",
       "    }\n",
       "\n",
       "    .dataframe tbody tr th {\n",
       "        vertical-align: top;\n",
       "    }\n",
       "\n",
       "    .dataframe thead th {\n",
       "        text-align: right;\n",
       "    }\n",
       "</style>\n",
       "<table border=\"1\" class=\"dataframe\">\n",
       "  <thead>\n",
       "    <tr style=\"text-align: right;\">\n",
       "      <th></th>\n",
       "      <th>Age</th>\n",
       "      <th>Annual_Premium</th>\n",
       "      <th>Vintage</th>\n",
       "    </tr>\n",
       "  </thead>\n",
       "  <tbody>\n",
       "    <tr>\n",
       "      <th>count</th>\n",
       "      <td>1.150480e+07</td>\n",
       "      <td>1.150480e+07</td>\n",
       "      <td>1.150480e+07</td>\n",
       "    </tr>\n",
       "    <tr>\n",
       "      <th>mean</th>\n",
       "      <td>3.838356e+01</td>\n",
       "      <td>3.046137e+04</td>\n",
       "      <td>1.638977e+02</td>\n",
       "    </tr>\n",
       "    <tr>\n",
       "      <th>std</th>\n",
       "      <td>1.499346e+01</td>\n",
       "      <td>1.645475e+04</td>\n",
       "      <td>7.997953e+01</td>\n",
       "    </tr>\n",
       "    <tr>\n",
       "      <th>min</th>\n",
       "      <td>2.000000e+01</td>\n",
       "      <td>2.630000e+03</td>\n",
       "      <td>1.000000e+01</td>\n",
       "    </tr>\n",
       "    <tr>\n",
       "      <th>25%</th>\n",
       "      <td>2.400000e+01</td>\n",
       "      <td>2.527700e+04</td>\n",
       "      <td>9.900000e+01</td>\n",
       "    </tr>\n",
       "    <tr>\n",
       "      <th>50%</th>\n",
       "      <td>3.600000e+01</td>\n",
       "      <td>3.182400e+04</td>\n",
       "      <td>1.660000e+02</td>\n",
       "    </tr>\n",
       "    <tr>\n",
       "      <th>75%</th>\n",
       "      <td>4.900000e+01</td>\n",
       "      <td>3.945100e+04</td>\n",
       "      <td>2.320000e+02</td>\n",
       "    </tr>\n",
       "    <tr>\n",
       "      <th>max</th>\n",
       "      <td>8.500000e+01</td>\n",
       "      <td>5.401650e+05</td>\n",
       "      <td>2.990000e+02</td>\n",
       "    </tr>\n",
       "  </tbody>\n",
       "</table>\n",
       "</div>"
      ],
      "text/plain": [
       "                Age  Annual_Premium       Vintage\n",
       "count  1.150480e+07    1.150480e+07  1.150480e+07\n",
       "mean   3.838356e+01    3.046137e+04  1.638977e+02\n",
       "std    1.499346e+01    1.645475e+04  7.997953e+01\n",
       "min    2.000000e+01    2.630000e+03  1.000000e+01\n",
       "25%    2.400000e+01    2.527700e+04  9.900000e+01\n",
       "50%    3.600000e+01    3.182400e+04  1.660000e+02\n",
       "75%    4.900000e+01    3.945100e+04  2.320000e+02\n",
       "max    8.500000e+01    5.401650e+05  2.990000e+02"
      ]
     },
     "execution_count": 11,
     "metadata": {},
     "output_type": "execute_result"
    }
   ],
   "source": [
    "train.describe()"
   ]
  },
  {
   "cell_type": "code",
   "execution_count": 12,
   "id": "efd395d0-9a6d-42bd-bdb4-19a0abde7ff5",
   "metadata": {},
   "outputs": [
    {
     "data": {
      "text/html": [
       "<div>\n",
       "<style scoped>\n",
       "    .dataframe tbody tr th:only-of-type {\n",
       "        vertical-align: middle;\n",
       "    }\n",
       "\n",
       "    .dataframe tbody tr th {\n",
       "        vertical-align: top;\n",
       "    }\n",
       "\n",
       "    .dataframe thead th {\n",
       "        text-align: right;\n",
       "    }\n",
       "</style>\n",
       "<table border=\"1\" class=\"dataframe\">\n",
       "  <thead>\n",
       "    <tr style=\"text-align: right;\">\n",
       "      <th></th>\n",
       "      <th>Gender</th>\n",
       "      <th>Driving_License</th>\n",
       "      <th>Region_Code</th>\n",
       "      <th>Previously_Insured</th>\n",
       "      <th>Vehicle_Age</th>\n",
       "      <th>Vehicle_Damage</th>\n",
       "      <th>Policy_Sales_Channel</th>\n",
       "      <th>Response</th>\n",
       "    </tr>\n",
       "  </thead>\n",
       "  <tbody>\n",
       "    <tr>\n",
       "      <th>count</th>\n",
       "      <td>11504798</td>\n",
       "      <td>11504798</td>\n",
       "      <td>11504798.0</td>\n",
       "      <td>11504798</td>\n",
       "      <td>11504798</td>\n",
       "      <td>11504798</td>\n",
       "      <td>11504798.0</td>\n",
       "      <td>11504798</td>\n",
       "    </tr>\n",
       "    <tr>\n",
       "      <th>unique</th>\n",
       "      <td>2</td>\n",
       "      <td>2</td>\n",
       "      <td>54.0</td>\n",
       "      <td>2</td>\n",
       "      <td>3</td>\n",
       "      <td>2</td>\n",
       "      <td>152.0</td>\n",
       "      <td>2</td>\n",
       "    </tr>\n",
       "    <tr>\n",
       "      <th>top</th>\n",
       "      <td>True</td>\n",
       "      <td>True</td>\n",
       "      <td>28.0</td>\n",
       "      <td>False</td>\n",
       "      <td>1-2 Year</td>\n",
       "      <td>True</td>\n",
       "      <td>152.0</td>\n",
       "      <td>False</td>\n",
       "    </tr>\n",
       "    <tr>\n",
       "      <th>freq</th>\n",
       "      <td>6228134</td>\n",
       "      <td>11482041</td>\n",
       "      <td>3451062.0</td>\n",
       "      <td>6178116</td>\n",
       "      <td>5982678</td>\n",
       "      <td>5783229</td>\n",
       "      <td>4166183.0</td>\n",
       "      <td>10089739</td>\n",
       "    </tr>\n",
       "  </tbody>\n",
       "</table>\n",
       "</div>"
      ],
      "text/plain": [
       "          Gender Driving_License  Region_Code Previously_Insured Vehicle_Age  \\\n",
       "count   11504798        11504798   11504798.0           11504798    11504798   \n",
       "unique         2               2         54.0                  2           3   \n",
       "top         True            True         28.0              False    1-2 Year   \n",
       "freq     6228134        11482041    3451062.0            6178116     5982678   \n",
       "\n",
       "       Vehicle_Damage  Policy_Sales_Channel  Response  \n",
       "count        11504798            11504798.0  11504798  \n",
       "unique              2                 152.0         2  \n",
       "top              True                 152.0     False  \n",
       "freq          5783229             4166183.0  10089739  "
      ]
     },
     "execution_count": 12,
     "metadata": {},
     "output_type": "execute_result"
    }
   ],
   "source": [
    "train.select_dtypes(include=['category', 'bool']).describe()"
   ]
  },
  {
   "cell_type": "code",
   "execution_count": 13,
   "id": "114e99cc-620b-43d0-bb1f-df562c163c9a",
   "metadata": {},
   "outputs": [
    {
     "data": {
      "text/plain": [
       "Gender  Age    Driving_License  Region_Code  Previously_Insured  Vehicle_Age  Vehicle_Damage  Annual_Premium  Policy_Sales_Channel  Vintage  Response\n",
       "False   False  False            False        False               False        False           False           False                 False    False       11504798\n",
       "Name: count, dtype: int64"
      ]
     },
     "execution_count": 13,
     "metadata": {},
     "output_type": "execute_result"
    }
   ],
   "source": [
    "train.isna().value_counts()"
   ]
  },
  {
   "cell_type": "markdown",
   "id": "ea784c11-2073-4459-b733-3fd5af07067d",
   "metadata": {},
   "source": [
    "No missing values!"
   ]
  },
  {
   "cell_type": "markdown",
   "id": "fb92fba2-f988-4fe6-9b8e-b4c8756619f0",
   "metadata": {},
   "source": [
    "## Original dataset"
   ]
  },
  {
   "cell_type": "code",
   "execution_count": 14,
   "id": "70ff9fd5-85c2-4087-9abd-0aeca1b31e82",
   "metadata": {},
   "outputs": [
    {
     "data": {
      "text/html": [
       "<div>\n",
       "<style scoped>\n",
       "    .dataframe tbody tr th:only-of-type {\n",
       "        vertical-align: middle;\n",
       "    }\n",
       "\n",
       "    .dataframe tbody tr th {\n",
       "        vertical-align: top;\n",
       "    }\n",
       "\n",
       "    .dataframe thead th {\n",
       "        text-align: right;\n",
       "    }\n",
       "</style>\n",
       "<table border=\"1\" class=\"dataframe\">\n",
       "  <thead>\n",
       "    <tr style=\"text-align: right;\">\n",
       "      <th></th>\n",
       "      <th>Gender</th>\n",
       "      <th>Age</th>\n",
       "      <th>Driving_License</th>\n",
       "      <th>Region_Code</th>\n",
       "      <th>Previously_Insured</th>\n",
       "      <th>Vehicle_Age</th>\n",
       "      <th>Vehicle_Damage</th>\n",
       "      <th>Annual_Premium</th>\n",
       "      <th>Policy_Sales_Channel</th>\n",
       "      <th>Vintage</th>\n",
       "      <th>Response</th>\n",
       "    </tr>\n",
       "    <tr>\n",
       "      <th>id</th>\n",
       "      <th></th>\n",
       "      <th></th>\n",
       "      <th></th>\n",
       "      <th></th>\n",
       "      <th></th>\n",
       "      <th></th>\n",
       "      <th></th>\n",
       "      <th></th>\n",
       "      <th></th>\n",
       "      <th></th>\n",
       "      <th></th>\n",
       "    </tr>\n",
       "  </thead>\n",
       "  <tbody>\n",
       "    <tr>\n",
       "      <th>1</th>\n",
       "      <td>True</td>\n",
       "      <td>44</td>\n",
       "      <td>True</td>\n",
       "      <td>28.0</td>\n",
       "      <td>False</td>\n",
       "      <td>&gt; 2 Years</td>\n",
       "      <td>True</td>\n",
       "      <td>40454.0</td>\n",
       "      <td>26.0</td>\n",
       "      <td>217</td>\n",
       "      <td>True</td>\n",
       "    </tr>\n",
       "    <tr>\n",
       "      <th>2</th>\n",
       "      <td>True</td>\n",
       "      <td>76</td>\n",
       "      <td>True</td>\n",
       "      <td>3.0</td>\n",
       "      <td>False</td>\n",
       "      <td>1-2 Year</td>\n",
       "      <td>False</td>\n",
       "      <td>33536.0</td>\n",
       "      <td>26.0</td>\n",
       "      <td>183</td>\n",
       "      <td>False</td>\n",
       "    </tr>\n",
       "    <tr>\n",
       "      <th>3</th>\n",
       "      <td>True</td>\n",
       "      <td>47</td>\n",
       "      <td>True</td>\n",
       "      <td>28.0</td>\n",
       "      <td>False</td>\n",
       "      <td>&gt; 2 Years</td>\n",
       "      <td>True</td>\n",
       "      <td>38294.0</td>\n",
       "      <td>26.0</td>\n",
       "      <td>27</td>\n",
       "      <td>True</td>\n",
       "    </tr>\n",
       "    <tr>\n",
       "      <th>4</th>\n",
       "      <td>True</td>\n",
       "      <td>21</td>\n",
       "      <td>True</td>\n",
       "      <td>11.0</td>\n",
       "      <td>True</td>\n",
       "      <td>&lt; 1 Year</td>\n",
       "      <td>False</td>\n",
       "      <td>28619.0</td>\n",
       "      <td>152.0</td>\n",
       "      <td>203</td>\n",
       "      <td>False</td>\n",
       "    </tr>\n",
       "    <tr>\n",
       "      <th>5</th>\n",
       "      <td>False</td>\n",
       "      <td>29</td>\n",
       "      <td>True</td>\n",
       "      <td>41.0</td>\n",
       "      <td>True</td>\n",
       "      <td>&lt; 1 Year</td>\n",
       "      <td>False</td>\n",
       "      <td>27496.0</td>\n",
       "      <td>152.0</td>\n",
       "      <td>39</td>\n",
       "      <td>False</td>\n",
       "    </tr>\n",
       "  </tbody>\n",
       "</table>\n",
       "</div>"
      ],
      "text/plain": [
       "    Gender  Age  Driving_License Region_Code  Previously_Insured Vehicle_Age  \\\n",
       "id                                                                             \n",
       "1     True   44             True        28.0               False   > 2 Years   \n",
       "2     True   76             True         3.0               False    1-2 Year   \n",
       "3     True   47             True        28.0               False   > 2 Years   \n",
       "4     True   21             True        11.0                True    < 1 Year   \n",
       "5    False   29             True        41.0                True    < 1 Year   \n",
       "\n",
       "    Vehicle_Damage  Annual_Premium Policy_Sales_Channel  Vintage  Response  \n",
       "id                                                                          \n",
       "1             True         40454.0                 26.0      217      True  \n",
       "2            False         33536.0                 26.0      183     False  \n",
       "3             True         38294.0                 26.0       27      True  \n",
       "4            False         28619.0                152.0      203     False  \n",
       "5            False         27496.0                152.0       39     False  "
      ]
     },
     "execution_count": 14,
     "metadata": {},
     "output_type": "execute_result"
    }
   ],
   "source": [
    "original_train.head()"
   ]
  },
  {
   "cell_type": "code",
   "execution_count": 15,
   "id": "0812a316-cbd5-47c3-a61a-1fb24a3a72f6",
   "metadata": {},
   "outputs": [
    {
     "data": {
      "text/html": [
       "<div>\n",
       "<style scoped>\n",
       "    .dataframe tbody tr th:only-of-type {\n",
       "        vertical-align: middle;\n",
       "    }\n",
       "\n",
       "    .dataframe tbody tr th {\n",
       "        vertical-align: top;\n",
       "    }\n",
       "\n",
       "    .dataframe thead th {\n",
       "        text-align: right;\n",
       "    }\n",
       "</style>\n",
       "<table border=\"1\" class=\"dataframe\">\n",
       "  <thead>\n",
       "    <tr style=\"text-align: right;\">\n",
       "      <th></th>\n",
       "      <th>Age</th>\n",
       "      <th>Annual_Premium</th>\n",
       "      <th>Vintage</th>\n",
       "    </tr>\n",
       "  </thead>\n",
       "  <tbody>\n",
       "    <tr>\n",
       "      <th>count</th>\n",
       "      <td>381109.000000</td>\n",
       "      <td>381109.000000</td>\n",
       "      <td>381109.000000</td>\n",
       "    </tr>\n",
       "    <tr>\n",
       "      <th>mean</th>\n",
       "      <td>38.822584</td>\n",
       "      <td>30564.389581</td>\n",
       "      <td>154.347397</td>\n",
       "    </tr>\n",
       "    <tr>\n",
       "      <th>std</th>\n",
       "      <td>15.511611</td>\n",
       "      <td>17213.155057</td>\n",
       "      <td>83.671304</td>\n",
       "    </tr>\n",
       "    <tr>\n",
       "      <th>min</th>\n",
       "      <td>20.000000</td>\n",
       "      <td>2630.000000</td>\n",
       "      <td>10.000000</td>\n",
       "    </tr>\n",
       "    <tr>\n",
       "      <th>25%</th>\n",
       "      <td>25.000000</td>\n",
       "      <td>24405.000000</td>\n",
       "      <td>82.000000</td>\n",
       "    </tr>\n",
       "    <tr>\n",
       "      <th>50%</th>\n",
       "      <td>36.000000</td>\n",
       "      <td>31669.000000</td>\n",
       "      <td>154.000000</td>\n",
       "    </tr>\n",
       "    <tr>\n",
       "      <th>75%</th>\n",
       "      <td>49.000000</td>\n",
       "      <td>39400.000000</td>\n",
       "      <td>227.000000</td>\n",
       "    </tr>\n",
       "    <tr>\n",
       "      <th>max</th>\n",
       "      <td>85.000000</td>\n",
       "      <td>540165.000000</td>\n",
       "      <td>299.000000</td>\n",
       "    </tr>\n",
       "  </tbody>\n",
       "</table>\n",
       "</div>"
      ],
      "text/plain": [
       "                 Age  Annual_Premium        Vintage\n",
       "count  381109.000000   381109.000000  381109.000000\n",
       "mean       38.822584    30564.389581     154.347397\n",
       "std        15.511611    17213.155057      83.671304\n",
       "min        20.000000     2630.000000      10.000000\n",
       "25%        25.000000    24405.000000      82.000000\n",
       "50%        36.000000    31669.000000     154.000000\n",
       "75%        49.000000    39400.000000     227.000000\n",
       "max        85.000000   540165.000000     299.000000"
      ]
     },
     "execution_count": 15,
     "metadata": {},
     "output_type": "execute_result"
    }
   ],
   "source": [
    "original_train.describe()"
   ]
  },
  {
   "cell_type": "markdown",
   "id": "7aae12c2-d336-43ed-8622-d3ad646cbcc9",
   "metadata": {},
   "source": [
    "Same statistics as train dataset"
   ]
  },
  {
   "cell_type": "code",
   "execution_count": 16,
   "id": "dfcbcfa6-da22-4396-ae10-b71e9767ff74",
   "metadata": {},
   "outputs": [
    {
     "data": {
      "text/html": [
       "<div>\n",
       "<style scoped>\n",
       "    .dataframe tbody tr th:only-of-type {\n",
       "        vertical-align: middle;\n",
       "    }\n",
       "\n",
       "    .dataframe tbody tr th {\n",
       "        vertical-align: top;\n",
       "    }\n",
       "\n",
       "    .dataframe thead th {\n",
       "        text-align: right;\n",
       "    }\n",
       "</style>\n",
       "<table border=\"1\" class=\"dataframe\">\n",
       "  <thead>\n",
       "    <tr style=\"text-align: right;\">\n",
       "      <th></th>\n",
       "      <th>Gender</th>\n",
       "      <th>Driving_License</th>\n",
       "      <th>Region_Code</th>\n",
       "      <th>Previously_Insured</th>\n",
       "      <th>Vehicle_Age</th>\n",
       "      <th>Vehicle_Damage</th>\n",
       "      <th>Policy_Sales_Channel</th>\n",
       "      <th>Response</th>\n",
       "    </tr>\n",
       "  </thead>\n",
       "  <tbody>\n",
       "    <tr>\n",
       "      <th>count</th>\n",
       "      <td>381109</td>\n",
       "      <td>381109</td>\n",
       "      <td>381109.0</td>\n",
       "      <td>381109</td>\n",
       "      <td>381109</td>\n",
       "      <td>381109</td>\n",
       "      <td>381109.0</td>\n",
       "      <td>381109</td>\n",
       "    </tr>\n",
       "    <tr>\n",
       "      <th>unique</th>\n",
       "      <td>2</td>\n",
       "      <td>2</td>\n",
       "      <td>53.0</td>\n",
       "      <td>2</td>\n",
       "      <td>3</td>\n",
       "      <td>2</td>\n",
       "      <td>155.0</td>\n",
       "      <td>2</td>\n",
       "    </tr>\n",
       "    <tr>\n",
       "      <th>top</th>\n",
       "      <td>True</td>\n",
       "      <td>True</td>\n",
       "      <td>28.0</td>\n",
       "      <td>False</td>\n",
       "      <td>1-2 Year</td>\n",
       "      <td>True</td>\n",
       "      <td>152.0</td>\n",
       "      <td>False</td>\n",
       "    </tr>\n",
       "    <tr>\n",
       "      <th>freq</th>\n",
       "      <td>206089</td>\n",
       "      <td>380297</td>\n",
       "      <td>106415.0</td>\n",
       "      <td>206481</td>\n",
       "      <td>200316</td>\n",
       "      <td>192413</td>\n",
       "      <td>134784.0</td>\n",
       "      <td>334399</td>\n",
       "    </tr>\n",
       "  </tbody>\n",
       "</table>\n",
       "</div>"
      ],
      "text/plain": [
       "        Gender Driving_License  Region_Code Previously_Insured Vehicle_Age  \\\n",
       "count   381109          381109     381109.0             381109      381109   \n",
       "unique       2               2         53.0                  2           3   \n",
       "top       True            True         28.0              False    1-2 Year   \n",
       "freq    206089          380297     106415.0             206481      200316   \n",
       "\n",
       "       Vehicle_Damage  Policy_Sales_Channel Response  \n",
       "count          381109              381109.0   381109  \n",
       "unique              2                 155.0        2  \n",
       "top              True                 152.0    False  \n",
       "freq           192413              134784.0   334399  "
      ]
     },
     "execution_count": 16,
     "metadata": {},
     "output_type": "execute_result"
    }
   ],
   "source": [
    "original_train.select_dtypes(include=['category', 'bool']).describe()"
   ]
  },
  {
   "cell_type": "markdown",
   "id": "d4609c9b-bb16-48b4-8fd0-1bdd4fccb2fd",
   "metadata": {},
   "source": [
    "# EDA"
   ]
  },
  {
   "cell_type": "markdown",
   "id": "9a8c962e-0c00-411b-b4c8-b6fb6efccd01",
   "metadata": {},
   "source": [
    "This dataset is huge. We'll sample it for our visualizations"
   ]
  },
  {
   "cell_type": "code",
   "execution_count": 42,
   "id": "9cc50c9f-379a-4796-aba9-bf8b5fd6f7bb",
   "metadata": {},
   "outputs": [],
   "source": [
    "# frac = .033 so our sample size is close to original data size. It will make easier to compare them both.\n",
    "train_sample = train.sample(frac=.033, random_state=42)"
   ]
  },
  {
   "cell_type": "markdown",
   "id": "9d92bf63-f127-4024-bd1d-eb060f30f2f1",
   "metadata": {},
   "source": [
    "## Synthetic vs Original dataset"
   ]
  },
  {
   "cell_type": "markdown",
   "id": "b6be2bba-b168-42f6-ba7f-8088c349615f",
   "metadata": {},
   "source": [
    "Is the Original Dataset close to our Synthetic one? Could it improve our model's performance?"
   ]
  },
  {
   "cell_type": "code",
   "execution_count": 44,
   "id": "11118f58-1432-4e6b-ab0d-effdbb6e8a8d",
   "metadata": {},
   "outputs": [
    {
     "data": {
      "text/html": [
       "<div>\n",
       "<style scoped>\n",
       "    .dataframe tbody tr th:only-of-type {\n",
       "        vertical-align: middle;\n",
       "    }\n",
       "\n",
       "    .dataframe tbody tr th {\n",
       "        vertical-align: top;\n",
       "    }\n",
       "\n",
       "    .dataframe thead th {\n",
       "        text-align: right;\n",
       "    }\n",
       "</style>\n",
       "<table border=\"1\" class=\"dataframe\">\n",
       "  <thead>\n",
       "    <tr style=\"text-align: right;\">\n",
       "      <th></th>\n",
       "      <th>Gender</th>\n",
       "      <th>Age</th>\n",
       "      <th>Driving_License</th>\n",
       "      <th>Region_Code</th>\n",
       "      <th>Previously_Insured</th>\n",
       "      <th>Vehicle_Age</th>\n",
       "      <th>Vehicle_Damage</th>\n",
       "      <th>Annual_Premium</th>\n",
       "      <th>Policy_Sales_Channel</th>\n",
       "      <th>Vintage</th>\n",
       "      <th>Response</th>\n",
       "      <th>original</th>\n",
       "    </tr>\n",
       "    <tr>\n",
       "      <th>id</th>\n",
       "      <th></th>\n",
       "      <th></th>\n",
       "      <th></th>\n",
       "      <th></th>\n",
       "      <th></th>\n",
       "      <th></th>\n",
       "      <th></th>\n",
       "      <th></th>\n",
       "      <th></th>\n",
       "      <th></th>\n",
       "      <th></th>\n",
       "      <th></th>\n",
       "    </tr>\n",
       "  </thead>\n",
       "  <tbody>\n",
       "    <tr>\n",
       "      <th>2899125</th>\n",
       "      <td>False</td>\n",
       "      <td>41</td>\n",
       "      <td>True</td>\n",
       "      <td>28.0</td>\n",
       "      <td>False</td>\n",
       "      <td>0</td>\n",
       "      <td>True</td>\n",
       "      <td>29590.0</td>\n",
       "      <td>157.0</td>\n",
       "      <td>46</td>\n",
       "      <td>False</td>\n",
       "      <td>False</td>\n",
       "    </tr>\n",
       "    <tr>\n",
       "      <th>3854901</th>\n",
       "      <td>False</td>\n",
       "      <td>40</td>\n",
       "      <td>True</td>\n",
       "      <td>28.0</td>\n",
       "      <td>False</td>\n",
       "      <td>0</td>\n",
       "      <td>True</td>\n",
       "      <td>42910.0</td>\n",
       "      <td>13.0</td>\n",
       "      <td>245</td>\n",
       "      <td>False</td>\n",
       "      <td>False</td>\n",
       "    </tr>\n",
       "    <tr>\n",
       "      <th>7377384</th>\n",
       "      <td>True</td>\n",
       "      <td>31</td>\n",
       "      <td>True</td>\n",
       "      <td>18.0</td>\n",
       "      <td>False</td>\n",
       "      <td>1</td>\n",
       "      <td>True</td>\n",
       "      <td>30375.0</td>\n",
       "      <td>152.0</td>\n",
       "      <td>31</td>\n",
       "      <td>False</td>\n",
       "      <td>False</td>\n",
       "    </tr>\n",
       "    <tr>\n",
       "      <th>10901782</th>\n",
       "      <td>False</td>\n",
       "      <td>24</td>\n",
       "      <td>True</td>\n",
       "      <td>37.0</td>\n",
       "      <td>True</td>\n",
       "      <td>1</td>\n",
       "      <td>False</td>\n",
       "      <td>2630.0</td>\n",
       "      <td>152.0</td>\n",
       "      <td>217</td>\n",
       "      <td>False</td>\n",
       "      <td>False</td>\n",
       "    </tr>\n",
       "    <tr>\n",
       "      <th>8099641</th>\n",
       "      <td>True</td>\n",
       "      <td>33</td>\n",
       "      <td>True</td>\n",
       "      <td>28.0</td>\n",
       "      <td>True</td>\n",
       "      <td>0</td>\n",
       "      <td>False</td>\n",
       "      <td>45224.0</td>\n",
       "      <td>124.0</td>\n",
       "      <td>286</td>\n",
       "      <td>False</td>\n",
       "      <td>False</td>\n",
       "    </tr>\n",
       "  </tbody>\n",
       "</table>\n",
       "</div>"
      ],
      "text/plain": [
       "          Gender  Age  Driving_License  Region_Code  Previously_Insured  \\\n",
       "id                                                                        \n",
       "2899125    False   41             True         28.0               False   \n",
       "3854901    False   40             True         28.0               False   \n",
       "7377384     True   31             True         18.0               False   \n",
       "10901782   False   24             True         37.0                True   \n",
       "8099641     True   33             True         28.0                True   \n",
       "\n",
       "          Vehicle_Age  Vehicle_Damage  Annual_Premium  Policy_Sales_Channel  \\\n",
       "id                                                                            \n",
       "2899125             0            True         29590.0                 157.0   \n",
       "3854901             0            True         42910.0                  13.0   \n",
       "7377384             1            True         30375.0                 152.0   \n",
       "10901782            1           False          2630.0                 152.0   \n",
       "8099641             0           False         45224.0                 124.0   \n",
       "\n",
       "          Vintage  Response  original  \n",
       "id                                     \n",
       "2899125        46     False     False  \n",
       "3854901       245     False     False  \n",
       "7377384        31     False     False  \n",
       "10901782      217     False     False  \n",
       "8099641       286     False     False  "
      ]
     },
     "execution_count": 44,
     "metadata": {},
     "output_type": "execute_result"
    }
   ],
   "source": [
    "train_sample[\"original\"] = False\n",
    "original_train[\"original\"] = True\n",
    "\n",
    "together = pd.concat([train_sample, original_train])\n",
    "together['Vehicle_Age'] = together['Vehicle_Age'].cat.codes\n",
    "together['Response'] = together['Response'].astype('bool')\n",
    "\n",
    "train_sample.drop(inplace=True, columns=[\"original\"])\n",
    "original_train.drop(inplace=True, columns=[\"original\"])\n",
    "\n",
    "together.head()"
   ]
  },
  {
   "cell_type": "markdown",
   "id": "4cce8f3b-b1fe-464e-b64c-4d69a8433f88",
   "metadata": {},
   "source": [
    "Synthetic vs Original Means"
   ]
  },
  {
   "cell_type": "code",
   "execution_count": 19,
   "id": "957eefb9-7f15-4461-96fb-ec41ece5a7dc",
   "metadata": {},
   "outputs": [
    {
     "data": {
      "text/html": [
       "<div>\n",
       "<style scoped>\n",
       "    .dataframe tbody tr th:only-of-type {\n",
       "        vertical-align: middle;\n",
       "    }\n",
       "\n",
       "    .dataframe tbody tr th {\n",
       "        vertical-align: top;\n",
       "    }\n",
       "\n",
       "    .dataframe thead th {\n",
       "        text-align: right;\n",
       "    }\n",
       "</style>\n",
       "<table border=\"1\" class=\"dataframe\">\n",
       "  <thead>\n",
       "    <tr style=\"text-align: right;\">\n",
       "      <th></th>\n",
       "      <th>Gender</th>\n",
       "      <th>Age</th>\n",
       "      <th>Driving_License</th>\n",
       "      <th>Region_Code</th>\n",
       "      <th>Previously_Insured</th>\n",
       "      <th>Vehicle_Age</th>\n",
       "      <th>Vehicle_Damage</th>\n",
       "      <th>Annual_Premium</th>\n",
       "      <th>Policy_Sales_Channel</th>\n",
       "      <th>Vintage</th>\n",
       "      <th>Response</th>\n",
       "    </tr>\n",
       "    <tr>\n",
       "      <th>original</th>\n",
       "      <th></th>\n",
       "      <th></th>\n",
       "      <th></th>\n",
       "      <th></th>\n",
       "      <th></th>\n",
       "      <th></th>\n",
       "      <th></th>\n",
       "      <th></th>\n",
       "      <th></th>\n",
       "      <th></th>\n",
       "      <th></th>\n",
       "    </tr>\n",
       "  </thead>\n",
       "  <tbody>\n",
       "    <tr>\n",
       "      <th>False</th>\n",
       "      <td>0.540739</td>\n",
       "      <td>38.389100</td>\n",
       "      <td>0.997914</td>\n",
       "      <td>26.400927</td>\n",
       "      <td>0.462903</td>\n",
       "      <td>0.521401</td>\n",
       "      <td>0.503743</td>\n",
       "      <td>30499.001691</td>\n",
       "      <td>112.269751</td>\n",
       "      <td>163.965701</td>\n",
       "      <td>0.122998</td>\n",
       "    </tr>\n",
       "    <tr>\n",
       "      <th>True</th>\n",
       "      <td>0.540761</td>\n",
       "      <td>38.822584</td>\n",
       "      <td>0.997869</td>\n",
       "      <td>26.388807</td>\n",
       "      <td>0.458210</td>\n",
       "      <td>0.516388</td>\n",
       "      <td>0.504877</td>\n",
       "      <td>30564.389581</td>\n",
       "      <td>112.034295</td>\n",
       "      <td>154.347397</td>\n",
       "      <td>0.122563</td>\n",
       "    </tr>\n",
       "  </tbody>\n",
       "</table>\n",
       "</div>"
      ],
      "text/plain": [
       "            Gender        Age  Driving_License  Region_Code  \\\n",
       "original                                                      \n",
       "False     0.540739  38.389100         0.997914    26.400927   \n",
       "True      0.540761  38.822584         0.997869    26.388807   \n",
       "\n",
       "          Previously_Insured  Vehicle_Age  Vehicle_Damage  Annual_Premium  \\\n",
       "original                                                                    \n",
       "False               0.462903     0.521401        0.503743    30499.001691   \n",
       "True                0.458210     0.516388        0.504877    30564.389581   \n",
       "\n",
       "          Policy_Sales_Channel     Vintage  Response  \n",
       "original                                              \n",
       "False               112.269751  163.965701  0.122998  \n",
       "True                112.034295  154.347397  0.122563  "
      ]
     },
     "execution_count": 19,
     "metadata": {},
     "output_type": "execute_result"
    }
   ],
   "source": [
    "together.groupby(['original']).mean()"
   ]
  },
  {
   "cell_type": "markdown",
   "id": "49d33c83-f3aa-411d-beac-911965e65df2",
   "metadata": {},
   "source": [
    "Synthetic vs Original Medians"
   ]
  },
  {
   "cell_type": "code",
   "execution_count": 20,
   "id": "36844c6e-3e5b-4d51-abc2-cdf8c393d5f3",
   "metadata": {},
   "outputs": [
    {
     "data": {
      "text/html": [
       "<div>\n",
       "<style scoped>\n",
       "    .dataframe tbody tr th:only-of-type {\n",
       "        vertical-align: middle;\n",
       "    }\n",
       "\n",
       "    .dataframe tbody tr th {\n",
       "        vertical-align: top;\n",
       "    }\n",
       "\n",
       "    .dataframe thead th {\n",
       "        text-align: right;\n",
       "    }\n",
       "</style>\n",
       "<table border=\"1\" class=\"dataframe\">\n",
       "  <thead>\n",
       "    <tr style=\"text-align: right;\">\n",
       "      <th></th>\n",
       "      <th>Gender</th>\n",
       "      <th>Age</th>\n",
       "      <th>Driving_License</th>\n",
       "      <th>Region_Code</th>\n",
       "      <th>Previously_Insured</th>\n",
       "      <th>Vehicle_Age</th>\n",
       "      <th>Vehicle_Damage</th>\n",
       "      <th>Annual_Premium</th>\n",
       "      <th>Policy_Sales_Channel</th>\n",
       "      <th>Vintage</th>\n",
       "      <th>Response</th>\n",
       "    </tr>\n",
       "    <tr>\n",
       "      <th>original</th>\n",
       "      <th></th>\n",
       "      <th></th>\n",
       "      <th></th>\n",
       "      <th></th>\n",
       "      <th></th>\n",
       "      <th></th>\n",
       "      <th></th>\n",
       "      <th></th>\n",
       "      <th></th>\n",
       "      <th></th>\n",
       "      <th></th>\n",
       "    </tr>\n",
       "  </thead>\n",
       "  <tbody>\n",
       "    <tr>\n",
       "      <th>False</th>\n",
       "      <td>1.0</td>\n",
       "      <td>36.0</td>\n",
       "      <td>1.0</td>\n",
       "      <td>28.0</td>\n",
       "      <td>0.0</td>\n",
       "      <td>0.0</td>\n",
       "      <td>1.0</td>\n",
       "      <td>31851.0</td>\n",
       "      <td>150.0</td>\n",
       "      <td>166.0</td>\n",
       "      <td>0.0</td>\n",
       "    </tr>\n",
       "    <tr>\n",
       "      <th>True</th>\n",
       "      <td>1.0</td>\n",
       "      <td>36.0</td>\n",
       "      <td>1.0</td>\n",
       "      <td>28.0</td>\n",
       "      <td>0.0</td>\n",
       "      <td>0.0</td>\n",
       "      <td>1.0</td>\n",
       "      <td>31669.0</td>\n",
       "      <td>133.0</td>\n",
       "      <td>154.0</td>\n",
       "      <td>0.0</td>\n",
       "    </tr>\n",
       "  </tbody>\n",
       "</table>\n",
       "</div>"
      ],
      "text/plain": [
       "          Gender   Age  Driving_License  Region_Code  Previously_Insured  \\\n",
       "original                                                                   \n",
       "False        1.0  36.0              1.0         28.0                 0.0   \n",
       "True         1.0  36.0              1.0         28.0                 0.0   \n",
       "\n",
       "          Vehicle_Age  Vehicle_Damage  Annual_Premium  Policy_Sales_Channel  \\\n",
       "original                                                                      \n",
       "False             0.0             1.0         31851.0                 150.0   \n",
       "True              0.0             1.0         31669.0                 133.0   \n",
       "\n",
       "          Vintage  Response  \n",
       "original                     \n",
       "False       166.0       0.0  \n",
       "True        154.0       0.0  "
      ]
     },
     "execution_count": 20,
     "metadata": {},
     "output_type": "execute_result"
    }
   ],
   "source": [
    "together.groupby(['original']).median()"
   ]
  },
  {
   "cell_type": "markdown",
   "id": "b415cabf-bf7d-4845-8d23-76536d51d9bd",
   "metadata": {},
   "source": [
    "Synthetic vs Original Standard Deviations"
   ]
  },
  {
   "cell_type": "code",
   "execution_count": 21,
   "id": "db3ee310-38d9-4d45-b3af-9ad7dc7ce341",
   "metadata": {},
   "outputs": [
    {
     "data": {
      "text/html": [
       "<div>\n",
       "<style scoped>\n",
       "    .dataframe tbody tr th:only-of-type {\n",
       "        vertical-align: middle;\n",
       "    }\n",
       "\n",
       "    .dataframe tbody tr th {\n",
       "        vertical-align: top;\n",
       "    }\n",
       "\n",
       "    .dataframe thead th {\n",
       "        text-align: right;\n",
       "    }\n",
       "</style>\n",
       "<table border=\"1\" class=\"dataframe\">\n",
       "  <thead>\n",
       "    <tr style=\"text-align: right;\">\n",
       "      <th></th>\n",
       "      <th>Gender</th>\n",
       "      <th>Age</th>\n",
       "      <th>Driving_License</th>\n",
       "      <th>Region_Code</th>\n",
       "      <th>Previously_Insured</th>\n",
       "      <th>Vehicle_Age</th>\n",
       "      <th>Vehicle_Damage</th>\n",
       "      <th>Annual_Premium</th>\n",
       "      <th>Policy_Sales_Channel</th>\n",
       "      <th>Vintage</th>\n",
       "      <th>Response</th>\n",
       "    </tr>\n",
       "    <tr>\n",
       "      <th>original</th>\n",
       "      <th></th>\n",
       "      <th></th>\n",
       "      <th></th>\n",
       "      <th></th>\n",
       "      <th></th>\n",
       "      <th></th>\n",
       "      <th></th>\n",
       "      <th></th>\n",
       "      <th></th>\n",
       "      <th></th>\n",
       "      <th></th>\n",
       "    </tr>\n",
       "  </thead>\n",
       "  <tbody>\n",
       "    <tr>\n",
       "      <th>False</th>\n",
       "      <td>0.498338</td>\n",
       "      <td>15.004783</td>\n",
       "      <td>0.045626</td>\n",
       "      <td>12.992345</td>\n",
       "      <td>0.498623</td>\n",
       "      <td>0.576447</td>\n",
       "      <td>0.499987</td>\n",
       "      <td>16353.503020</td>\n",
       "      <td>54.111915</td>\n",
       "      <td>80.038525</td>\n",
       "      <td>0.328435</td>\n",
       "    </tr>\n",
       "    <tr>\n",
       "      <th>True</th>\n",
       "      <td>0.498336</td>\n",
       "      <td>15.511611</td>\n",
       "      <td>0.046110</td>\n",
       "      <td>13.229888</td>\n",
       "      <td>0.498251</td>\n",
       "      <td>0.577698</td>\n",
       "      <td>0.499977</td>\n",
       "      <td>17213.155057</td>\n",
       "      <td>54.203995</td>\n",
       "      <td>83.671304</td>\n",
       "      <td>0.327936</td>\n",
       "    </tr>\n",
       "  </tbody>\n",
       "</table>\n",
       "</div>"
      ],
      "text/plain": [
       "            Gender        Age  Driving_License  Region_Code  \\\n",
       "original                                                      \n",
       "False     0.498338  15.004783         0.045626    12.992345   \n",
       "True      0.498336  15.511611         0.046110    13.229888   \n",
       "\n",
       "          Previously_Insured  Vehicle_Age  Vehicle_Damage  Annual_Premium  \\\n",
       "original                                                                    \n",
       "False               0.498623     0.576447        0.499987    16353.503020   \n",
       "True                0.498251     0.577698        0.499977    17213.155057   \n",
       "\n",
       "          Policy_Sales_Channel    Vintage  Response  \n",
       "original                                             \n",
       "False                54.111915  80.038525  0.328435  \n",
       "True                 54.203995  83.671304  0.327936  "
      ]
     },
     "execution_count": 21,
     "metadata": {},
     "output_type": "execute_result"
    }
   ],
   "source": [
    "together.groupby(['original']).std()"
   ]
  },
  {
   "cell_type": "markdown",
   "id": "d14093ed-23a4-421c-8902-e1a24cf6de31",
   "metadata": {},
   "source": [
    "Synthetic vs Original Skewness"
   ]
  },
  {
   "cell_type": "code",
   "execution_count": 22,
   "id": "b5ea1ad4-d199-4fd2-8987-a598ad4e7f9c",
   "metadata": {},
   "outputs": [
    {
     "data": {
      "text/html": [
       "<div>\n",
       "<style scoped>\n",
       "    .dataframe tbody tr th:only-of-type {\n",
       "        vertical-align: middle;\n",
       "    }\n",
       "\n",
       "    .dataframe tbody tr th {\n",
       "        vertical-align: top;\n",
       "    }\n",
       "\n",
       "    .dataframe thead th {\n",
       "        text-align: right;\n",
       "    }\n",
       "</style>\n",
       "<table border=\"1\" class=\"dataframe\">\n",
       "  <thead>\n",
       "    <tr style=\"text-align: right;\">\n",
       "      <th></th>\n",
       "      <th>Gender</th>\n",
       "      <th>Age</th>\n",
       "      <th>Driving_License</th>\n",
       "      <th>Region_Code</th>\n",
       "      <th>Previously_Insured</th>\n",
       "      <th>Vehicle_Age</th>\n",
       "      <th>Vehicle_Damage</th>\n",
       "      <th>Annual_Premium</th>\n",
       "      <th>Policy_Sales_Channel</th>\n",
       "      <th>Vintage</th>\n",
       "      <th>Response</th>\n",
       "    </tr>\n",
       "    <tr>\n",
       "      <th>original</th>\n",
       "      <th></th>\n",
       "      <th></th>\n",
       "      <th></th>\n",
       "      <th></th>\n",
       "      <th></th>\n",
       "      <th></th>\n",
       "      <th></th>\n",
       "      <th></th>\n",
       "      <th></th>\n",
       "      <th></th>\n",
       "      <th></th>\n",
       "    </tr>\n",
       "  </thead>\n",
       "  <tbody>\n",
       "    <tr>\n",
       "      <th>False</th>\n",
       "      <td>-0.163501</td>\n",
       "      <td>0.636919</td>\n",
       "      <td>-21.825948</td>\n",
       "      <td>-0.128463</td>\n",
       "      <td>0.148797</td>\n",
       "      <td>0.564504</td>\n",
       "      <td>-0.014972</td>\n",
       "      <td>0.505003</td>\n",
       "      <td>-0.907973</td>\n",
       "      <td>-0.109498</td>\n",
       "      <td>2.295764</td>\n",
       "    </tr>\n",
       "    <tr>\n",
       "      <th>True</th>\n",
       "      <td>-0.163590</td>\n",
       "      <td>0.672539</td>\n",
       "      <td>-21.595182</td>\n",
       "      <td>-0.115266</td>\n",
       "      <td>0.167747</td>\n",
       "      <td>0.589682</td>\n",
       "      <td>-0.019507</td>\n",
       "      <td>1.766087</td>\n",
       "      <td>-0.900008</td>\n",
       "      <td>0.003030</td>\n",
       "      <td>2.301906</td>\n",
       "    </tr>\n",
       "  </tbody>\n",
       "</table>\n",
       "</div>"
      ],
      "text/plain": [
       "            Gender       Age  Driving_License  Region_Code  \\\n",
       "original                                                     \n",
       "False    -0.163501  0.636919       -21.825948    -0.128463   \n",
       "True     -0.163590  0.672539       -21.595182    -0.115266   \n",
       "\n",
       "          Previously_Insured  Vehicle_Age  Vehicle_Damage  Annual_Premium  \\\n",
       "original                                                                    \n",
       "False               0.148797     0.564504       -0.014972        0.505003   \n",
       "True                0.167747     0.589682       -0.019507        1.766087   \n",
       "\n",
       "          Policy_Sales_Channel   Vintage  Response  \n",
       "original                                            \n",
       "False                -0.907973 -0.109498  2.295764  \n",
       "True                 -0.900008  0.003030  2.301906  "
      ]
     },
     "execution_count": 22,
     "metadata": {},
     "output_type": "execute_result"
    }
   ],
   "source": [
    "together.groupby(['original']).skew()"
   ]
  },
  {
   "cell_type": "code",
   "execution_count": 46,
   "id": "075264bb-7c9d-4879-8237-f903226a405b",
   "metadata": {},
   "outputs": [
    {
     "data": {
      "text/plain": [
       "Text(0, 0.5, '')"
      ]
     },
     "execution_count": 46,
     "metadata": {},
     "output_type": "execute_result"
    },
    {
     "data": {
      "image/png": "[encoded data removed]",
      "text/plain": [
       "<Figure size 1600x2000 with 12 Axes>"
      ]
     },
     "metadata": {},
     "output_type": "display_data"
    }
   ],
   "source": [
    "reshaped = np.reshape(together.columns, (4,3))\n",
    "\n",
    "_, axs = plt.subplots(4, 3, figsize=(16, 20))\n",
    "\n",
    "for i in range(4):\n",
    "    for j in range(3):\n",
    "        if (pd.api.types.is_bool_dtype(together[reshaped[i][j]].dtype)):\n",
    "            ax = sns.barplot(x=together[reshaped[i][j]], ax=axs[i][j], hue=together[\"original\"])\n",
    "        else:\n",
    "            ax = sns.boxplot(x=together[reshaped[i][j]], ax=axs[i][j], hue=together[\"original\"])\n",
    "        ax.set_ylabel(None)\n",
    "        \n",
    "ax.set_ylabel(None)"
   ]
  },
  {
   "cell_type": "markdown",
   "id": "7506c078-cbd2-42c0-a7f9-a25bdfdcb4dd",
   "metadata": {},
   "source": [
    "Distributions and statistics are very similar visually save for a few cases.\n",
    "\n",
    "We'll use Chi-Square tests to check that."
   ]
  },
  {
   "cell_type": "code",
   "execution_count": 48,
   "id": "b13b1771-96fa-44f2-b8b5-9c38565a2914",
   "metadata": {},
   "outputs": [],
   "source": [
    "import pandas as pd\n",
    "from scipy.stats import chi2_contingency\n",
    "\n",
    "def compare_distributions(original, synthetic):\n",
    "    test_results = {}\n",
    "\n",
    "    for column in original.columns:\n",
    "        contingency_table = pd.crosstab(original[column], synthetic[column], dropna=False)\n",
    "        # Add a small constant to avoid zero frequencies\n",
    "        contingency_table += 0.5\n",
    "        \n",
    "        stat, p_value, _, _ = chi2_contingency(contingency_table)\n",
    "        \n",
    "        test_results[column] = {\n",
    "            'Chi^2 statistic': stat,\n",
    "            'Chi^2 p_value': p_value,\n",
    "            'Statistically significant': p_value < 0.05\n",
    "        }\n",
    "    \n",
    "    return pd.DataFrame(test_results).T"
   ]
  },
  {
   "cell_type": "code",
   "execution_count": 49,
   "id": "03bf5b79-0a25-4c8e-8885-7e72af48f72e",
   "metadata": {},
   "outputs": [
    {
     "data": {
      "text/html": [
       "<div>\n",
       "<style scoped>\n",
       "    .dataframe tbody tr th:only-of-type {\n",
       "        vertical-align: middle;\n",
       "    }\n",
       "\n",
       "    .dataframe tbody tr th {\n",
       "        vertical-align: top;\n",
       "    }\n",
       "\n",
       "    .dataframe thead th {\n",
       "        text-align: right;\n",
       "    }\n",
       "</style>\n",
       "<table border=\"1\" class=\"dataframe\">\n",
       "  <thead>\n",
       "    <tr style=\"text-align: right;\">\n",
       "      <th></th>\n",
       "      <th>Chi^2 statistic</th>\n",
       "      <th>Chi^2 p_value</th>\n",
       "      <th>Statistically significant</th>\n",
       "    </tr>\n",
       "  </thead>\n",
       "  <tbody>\n",
       "    <tr>\n",
       "      <th>Gender</th>\n",
       "      <td>0.093837</td>\n",
       "      <td>0.759355</td>\n",
       "      <td>False</td>\n",
       "    </tr>\n",
       "    <tr>\n",
       "      <th>Age</th>\n",
       "      <td>2933.943949</td>\n",
       "      <td>1.0</td>\n",
       "      <td>False</td>\n",
       "    </tr>\n",
       "    <tr>\n",
       "      <th>Driving_License</th>\n",
       "      <td>0.0</td>\n",
       "      <td>1.0</td>\n",
       "      <td>False</td>\n",
       "    </tr>\n",
       "    <tr>\n",
       "      <th>Region_Code</th>\n",
       "      <td>2045.451371</td>\n",
       "      <td>1.0</td>\n",
       "      <td>False</td>\n",
       "    </tr>\n",
       "    <tr>\n",
       "      <th>Previously_Insured</th>\n",
       "      <td>0.0</td>\n",
       "      <td>1.0</td>\n",
       "      <td>False</td>\n",
       "    </tr>\n",
       "    <tr>\n",
       "      <th>Vehicle_Age</th>\n",
       "      <td>5.840294</td>\n",
       "      <td>0.211397</td>\n",
       "      <td>False</td>\n",
       "    </tr>\n",
       "    <tr>\n",
       "      <th>Vehicle_Damage</th>\n",
       "      <td>0.057571</td>\n",
       "      <td>0.810377</td>\n",
       "      <td>False</td>\n",
       "    </tr>\n",
       "    <tr>\n",
       "      <th>Annual_Premium</th>\n",
       "      <td>139264.163187</td>\n",
       "      <td>1.0</td>\n",
       "      <td>False</td>\n",
       "    </tr>\n",
       "    <tr>\n",
       "      <th>Policy_Sales_Channel</th>\n",
       "      <td>15664.15853</td>\n",
       "      <td>1.0</td>\n",
       "      <td>False</td>\n",
       "    </tr>\n",
       "    <tr>\n",
       "      <th>Vintage</th>\n",
       "      <td>18928.792815</td>\n",
       "      <td>1.0</td>\n",
       "      <td>False</td>\n",
       "    </tr>\n",
       "    <tr>\n",
       "      <th>Response</th>\n",
       "      <td>0.228662</td>\n",
       "      <td>0.632518</td>\n",
       "      <td>False</td>\n",
       "    </tr>\n",
       "  </tbody>\n",
       "</table>\n",
       "</div>"
      ],
      "text/plain": [
       "                     Chi^2 statistic Chi^2 p_value Statistically significant\n",
       "Gender                      0.093837      0.759355                     False\n",
       "Age                      2933.943949           1.0                     False\n",
       "Driving_License                  0.0           1.0                     False\n",
       "Region_Code              2045.451371           1.0                     False\n",
       "Previously_Insured               0.0           1.0                     False\n",
       "Vehicle_Age                 5.840294      0.211397                     False\n",
       "Vehicle_Damage              0.057571      0.810377                     False\n",
       "Annual_Premium         139264.163187           1.0                     False\n",
       "Policy_Sales_Channel     15664.15853           1.0                     False\n",
       "Vintage                 18928.792815           1.0                     False\n",
       "Response                    0.228662      0.632518                     False"
      ]
     },
     "execution_count": 49,
     "metadata": {},
     "output_type": "execute_result"
    }
   ],
   "source": [
    "compare_distributions(original_train, train_sample)"
   ]
  },
  {
   "cell_type": "markdown",
   "id": "a46134d3-5a26-4830-a0fe-1886207179d0",
   "metadata": {},
   "source": [
    "Since the original data didn't hurt model performance, I'll use it for now."
   ]
  },
  {
   "cell_type": "code",
   "execution_count": 51,
   "id": "042ca5b0-0bd5-46d8-8781-8cd23d3b788f",
   "metadata": {},
   "outputs": [],
   "source": [
    "train_sample1 = pd.concat([train_sample, original_train])\n",
    "del together"
   ]
  },
  {
   "cell_type": "markdown",
   "id": "0a9a896f-0b6d-4629-9085-7490f8cdbd2d",
   "metadata": {},
   "source": [
    "## Feature Distribution"
   ]
  },
  {
   "cell_type": "markdown",
   "id": "ab7fa437-1fca-478a-9f99-b7cd82750066",
   "metadata": {},
   "source": [
    "### Numeric Features"
   ]
  },
  {
   "cell_type": "code",
   "execution_count": 27,
   "id": "0c63fb34-db37-4ee7-8d26-6d44f8fb7b47",
   "metadata": {},
   "outputs": [
    {
     "data": {
      "text/plain": [
       "Text(0, 0.5, '')"
      ]
     },
     "execution_count": 27,
     "metadata": {},
     "output_type": "execute_result"
    },
    {
     "data": {
      "image/png": "[encoded data removed]",
      "text/plain": [
       "<Figure size 1600x400 with 3 Axes>"
      ]
     },
     "metadata": {},
     "output_type": "display_data"
    }
   ],
   "source": [
    "_, axs = plt.subplots(1, 3, figsize=(16,4))\n",
    "\n",
    "sns.histplot(x=train_sample[\"Age\"], ax=axs[0], bins=20, kde=True, hue=train_sample[\"Response\"]).set_ylabel(None)\n",
    "sns.histplot(x=train_sample[\"Annual_Premium\"], ax=axs[1], bins=20, kde=True, hue=train_sample[\"Response\"]).set_ylabel(None)\n",
    "sns.histplot(x=train_sample[\"Vintage\"], ax=axs[2], bins=20, kde=True, hue=train_sample[\"Response\"]).set_ylabel(None)"
   ]
  },
  {
   "cell_type": "markdown",
   "id": "1a9f385c-b95f-4be0-b28e-6008490ec788",
   "metadata": {},
   "source": [
    "### Categorical Features"
   ]
  },
  {
   "cell_type": "code",
   "execution_count": 28,
   "id": "309d2ae8-dd29-4997-bfe5-5119e7307960",
   "metadata": {},
   "outputs": [
    {
     "ename": "IndexError",
     "evalue": "index 1 is out of bounds for axis 0 with size 1",
     "output_type": "error",
     "traceback": [
      "\u001b[1;31m---------------------------------------------------------------------------\u001b[0m",
      "\u001b[1;31mIndexError\u001b[0m                                Traceback (most recent call last)",
      "Cell \u001b[1;32mIn[28], line 6\u001b[0m\n\u001b[0;32m      3\u001b[0m _, axs \u001b[38;5;241m=\u001b[39m plt\u001b[38;5;241m.\u001b[39msubplots(\u001b[38;5;241m3\u001b[39m, \u001b[38;5;241m1\u001b[39m, figsize\u001b[38;5;241m=\u001b[39m(\u001b[38;5;241m10\u001b[39m,\u001b[38;5;241m16\u001b[39m))\n\u001b[0;32m      5\u001b[0m \u001b[38;5;28;01mfor\u001b[39;00m i \u001b[38;5;129;01min\u001b[39;00m \u001b[38;5;28mrange\u001b[39m(\u001b[38;5;241m3\u001b[39m):\n\u001b[1;32m----> 6\u001b[0m     ax \u001b[38;5;241m=\u001b[39m sns\u001b[38;5;241m.\u001b[39mcountplot(x\u001b[38;5;241m=\u001b[39mtrain_sample[\u001b[43mcategorical_columns\u001b[49m\u001b[43m[\u001b[49m\u001b[43mi\u001b[49m\u001b[43m]\u001b[49m], ax\u001b[38;5;241m=\u001b[39maxs[i], hue\u001b[38;5;241m=\u001b[39mtrain_sample[\u001b[38;5;124m\"\u001b[39m\u001b[38;5;124mResponse\u001b[39m\u001b[38;5;124m\"\u001b[39m])\n\u001b[0;32m      7\u001b[0m     ax\u001b[38;5;241m.\u001b[39mset_ylabel(\u001b[38;5;28;01mNone\u001b[39;00m)\n\u001b[0;32m      8\u001b[0m     ax\u001b[38;5;241m.\u001b[39mtick_params(axis\u001b[38;5;241m=\u001b[39m\u001b[38;5;124m'\u001b[39m\u001b[38;5;124mx\u001b[39m\u001b[38;5;124m'\u001b[39m, rotation\u001b[38;5;241m=\u001b[39m\u001b[38;5;241m90\u001b[39m)\n",
      "File \u001b[1;32m~\\miniconda3\\envs\\DataScienceMain\\Lib\\site-packages\\pandas\\core\\indexes\\base.py:5389\u001b[0m, in \u001b[0;36mIndex.__getitem__\u001b[1;34m(self, key)\u001b[0m\n\u001b[0;32m   5386\u001b[0m \u001b[38;5;28;01mif\u001b[39;00m is_integer(key) \u001b[38;5;129;01mor\u001b[39;00m is_float(key):\n\u001b[0;32m   5387\u001b[0m     \u001b[38;5;66;03m# GH#44051 exclude bool, which would return a 2d ndarray\u001b[39;00m\n\u001b[0;32m   5388\u001b[0m     key \u001b[38;5;241m=\u001b[39m com\u001b[38;5;241m.\u001b[39mcast_scalar_indexer(key)\n\u001b[1;32m-> 5389\u001b[0m     \u001b[38;5;28;01mreturn\u001b[39;00m \u001b[43mgetitem\u001b[49m\u001b[43m(\u001b[49m\u001b[43mkey\u001b[49m\u001b[43m)\u001b[49m\n\u001b[0;32m   5391\u001b[0m \u001b[38;5;28;01mif\u001b[39;00m \u001b[38;5;28misinstance\u001b[39m(key, \u001b[38;5;28mslice\u001b[39m):\n\u001b[0;32m   5392\u001b[0m     \u001b[38;5;66;03m# This case is separated from the conditional above to avoid\u001b[39;00m\n\u001b[0;32m   5393\u001b[0m     \u001b[38;5;66;03m# pessimization com.is_bool_indexer and ndim checks.\u001b[39;00m\n\u001b[0;32m   5394\u001b[0m     \u001b[38;5;28;01mreturn\u001b[39;00m \u001b[38;5;28mself\u001b[39m\u001b[38;5;241m.\u001b[39m_getitem_slice(key)\n",
      "\u001b[1;31mIndexError\u001b[0m: index 1 is out of bounds for axis 0 with size 1"
     ]
    },
    {
     "data": {
      "image/png": "[encoded data removed]",
      "text/plain": [
       "<Figure size 1000x1600 with 3 Axes>"
      ]
     },
     "metadata": {},
     "output_type": "display_data"
    }
   ],
   "source": [
    "categorical_columns = train_sample.select_dtypes(\"category\").columns\n",
    "\n",
    "_, axs = plt.subplots(3, 1, figsize=(10,16))\n",
    "\n",
    "for i in range(3):\n",
    "    ax = sns.countplot(x=train_sample[categorical_columns[i]], ax=axs[i], hue=train_sample[\"Response\"])\n",
    "    ax.set_ylabel(None)\n",
    "    ax.tick_params(axis='x', rotation=90)"
   ]
  },
  {
   "cell_type": "markdown",
   "id": "0ad82d5d-6e64-41aa-9b49-a894ad399295",
   "metadata": {},
   "source": [
    "### Boolean Features"
   ]
  },
  {
   "cell_type": "code",
   "execution_count": null,
   "id": "f2165165-81b3-4509-a234-1b65dfc22a87",
   "metadata": {},
   "outputs": [],
   "source": [
    "boolean_columns = train_sample.select_dtypes(\"bool\").columns\n",
    "reshaped_bools = np.reshape(boolean_columns[:-1], (2,2))\n",
    "\n",
    "_, axs = plt.subplots(2, 2, figsize=(12, 10))\n",
    "\n",
    "for i in range(2):\n",
    "    for j in range(2):\n",
    "        sns.countplot(x=train_sample[reshaped_bools[i][j]], ax=axs[i][j], hue=train_sample[\"Response\"]).set_ylabel(None)"
   ]
  },
  {
   "cell_type": "markdown",
   "id": "011b48e7-6d82-416b-86d9-889211d388b3",
   "metadata": {},
   "source": [
    "## Target Balance"
   ]
  },
  {
   "cell_type": "code",
   "execution_count": null,
   "id": "ad4020b3-26bd-4afa-8a05-c5cc1a8addd5",
   "metadata": {},
   "outputs": [],
   "source": [
    "sns.countplot(x=train_sample[\"Response\"])"
   ]
  },
  {
   "cell_type": "code",
   "execution_count": null,
   "id": "9401bb4d-5839-42f1-9aa3-7f537d04e1c5",
   "metadata": {},
   "outputs": [],
   "source": [
    "rate = str(len(train_sample[train_sample[\"Response\"] == True]) / len(train_sample[train_sample[\"Response\"] == False]) * 100)\n",
    "print(f\"True/False: {rate}%\")"
   ]
  },
  {
   "cell_type": "markdown",
   "id": "0c18b0e2-01d6-465f-87fa-a688d85f81a8",
   "metadata": {},
   "source": [
    "## Mutual Information"
   ]
  },
  {
   "cell_type": "code",
   "execution_count": null,
   "id": "c2761e45-714c-4ac2-bae8-dc8568ed44cc",
   "metadata": {},
   "outputs": [],
   "source": [
    "def make_mi_scores(X, y):\n",
    "    X = X.copy()\n",
    "    X['Vehicle_Age'] = X['Vehicle_Age'].cat.codes\n",
    "    \n",
    "    mi_scores = mutual_info_regression(X, y, random_state=42, discrete_features=True)\n",
    "    mi_scores = pd.Series(mi_scores, name=\"MI Scores\", index=X.columns)\n",
    "    mi_scores = mi_scores.sort_values(ascending=True)\n",
    "    return mi_scores\n",
    "\n",
    "mi_scores = make_mi_scores(train_sample.drop(columns=\"Response\"), train_sample[\"Response\"])"
   ]
  },
  {
   "cell_type": "code",
   "execution_count": null,
   "id": "1d7a4aae-0d0f-4daa-9606-c9a33db9f7f4",
   "metadata": {},
   "outputs": [],
   "source": [
    "mi_scores.plot.barh(figsize=(12,8))"
   ]
  },
  {
   "cell_type": "markdown",
   "id": "f2353547-0551-4b3c-9293-b6de4dd34373",
   "metadata": {},
   "source": [
    "## Correlation"
   ]
  },
  {
   "cell_type": "code",
   "execution_count": null,
   "id": "f1dc36db-0a91-49e4-abd7-8c8fdd5bee79",
   "metadata": {},
   "outputs": [],
   "source": [
    "def plot_correlation(data):\n",
    "    data = data.copy()\n",
    "    data['Vehicle_Age'] = data['Vehicle_Age'].cat.codes\n",
    "    corr_matrix = data.corr()\n",
    "    \n",
    "    plt.figure(figsize=(12,8))\n",
    "    mask = np.triu(np.ones_like(corr_matrix, dtype=bool))\n",
    "    return sns.heatmap(corr_matrix, mask=mask, center=0)"
   ]
  },
  {
   "cell_type": "code",
   "execution_count": null,
   "id": "28f6699f-4c85-4049-bcf2-47f5f7c18ffe",
   "metadata": {},
   "outputs": [],
   "source": [
    "plot_correlation(train_sample)"
   ]
  },
  {
   "cell_type": "markdown",
   "id": "4875fa4f-5860-462c-99b6-63da49e2a6c4",
   "metadata": {},
   "source": [
    "## Feature Importance"
   ]
  },
  {
   "cell_type": "code",
   "execution_count": null,
   "id": "b70c66b2-a553-4093-886c-0354809e2cd0",
   "metadata": {},
   "outputs": [],
   "source": [
    "fi_xgb = XGBClassifier(random_state=42, enable_categorical=True, n_jobs=-1, eval_metric=\"auc\")\n",
    "fi_lgbm = LGBMClassifier(random_state=42, verbose=0, n_jobs=-1)\n",
    "fi_random_forest = RandomForestClassifier(random_state=42, n_jobs=-1)\n",
    "\n",
    "fi_xgb.fit(train_sample.drop(columns='Response'), train_sample.Response)\n",
    "fi_lgbm.fit(train_sample.drop(columns='Response'), train_sample.Response, eval_metric=\"auc\")\n",
    "fi_random_forest.fit(train_sample.drop(columns='Response'), train_sample.Response)"
   ]
  },
  {
   "cell_type": "code",
   "execution_count": null,
   "id": "3bfcc4a9-4b73-4d35-849e-55d803245bab",
   "metadata": {
    "jupyter": {
     "source_hidden": true
    }
   },
   "outputs": [],
   "source": [
    "def random_forest_importance(\n",
    "    model: RandomForestClassifier, feature_names, ax, ignore_zero=True, importance_type=\"auto\", \n",
    "    height=0.2, values_format=\"{v}\", figsize=None, title=None, grid=True\n",
    "):\n",
    "    \n",
    "    importances = model.feature_importances_\n",
    "    \n",
    "    tuples = sorted(zip(feature_names, importances), key=lambda x: x[1])\n",
    "    \n",
    "    if ignore_zero:\n",
    "        tuples = [x for x in tuples if x[1] > 0]\n",
    "        \n",
    "    labels, values = zip(*tuples)\n",
    "    ylocs = np.arange(len(values))\n",
    "    \n",
    "    ax.barh(ylocs, values, align='center', height=height)\n",
    "\n",
    "    offset = max(values) * 0.02\n",
    "    for x, y in zip(values, ylocs):\n",
    "        ax.text(x + offset, y, values_format.format(v=x), va='center')\n",
    "\n",
    "    ax.set_yticks(ylocs)\n",
    "    ax.set_yticklabels(labels)\n",
    "    \n",
    "    ax.set_xlim((0, max(values) * 1.1))\n",
    "    ax.set_ylim((-1, len(values)))\n",
    "\n",
    "    if title is not None:\n",
    "        ax.set_title(title)\n",
    "    \n",
    "    ax.grid(grid)\n",
    "    \n",
    "    return ax"
   ]
  },
  {
   "cell_type": "code",
   "execution_count": null,
   "id": "628080cb-f1c4-4313-beb8-edafb8b26c68",
   "metadata": {},
   "outputs": [],
   "source": [
    "_, axs = plt.subplots(3, 1, figsize=(14, 18))\n",
    "\n",
    "xgboost.plot_importance(fi_xgb, ax=axs[0], title=\"XGBoost Feature Importance\", xlabel=None, ylabel=None, importance_type=\"gain\", values_format=\"{v:.2f}\")\n",
    "lightgbm.plot_importance(fi_lgbm, ax=axs[1], title=\"LightGBM Feature Importance\", xlabel=None, ylabel=None, importance_type=\"gain\", precision=2)\n",
    "random_forest_importance(fi_random_forest, train_sample.drop(columns=\"Response\").columns, ax=axs[2], title=\"Random Forest Feature Importance\", importance_type=\"gain\", values_format=\"{v:.2f}\")"
   ]
  },
  {
   "cell_type": "markdown",
   "id": "b67dccb4-be01-48fd-a18d-da48f5eea5cb",
   "metadata": {},
   "source": [
    "# Feature Engineering"
   ]
  },
  {
   "cell_type": "code",
   "execution_count": null,
   "id": "6b229c0f-24c5-4285-a4a9-261e8c0703c0",
   "metadata": {},
   "outputs": [],
   "source": []
  },
  {
   "cell_type": "code",
   "execution_count": null,
   "id": "264077f1-a025-41f2-bea9-42d55aa29955",
   "metadata": {},
   "outputs": [],
   "source": []
  },
  {
   "cell_type": "code",
   "execution_count": null,
   "id": "e09f3623-c835-4bf6-a6db-e33c3c6626a5",
   "metadata": {},
   "outputs": [],
   "source": []
  },
  {
   "cell_type": "code",
   "execution_count": null,
   "id": "2f97417c-3325-40e4-85cb-86128f7535db",
   "metadata": {},
   "outputs": [],
   "source": []
  },
  {
   "cell_type": "code",
   "execution_count": null,
   "id": "acab3e48-8dfb-465a-9070-63afe69eee5e",
   "metadata": {},
   "outputs": [],
   "source": []
  },
  {
   "cell_type": "markdown",
   "id": "e026cad0-b359-4e7b-98d2-ef00b1936ceb",
   "metadata": {},
   "source": [
    "# Model Evaluation"
   ]
  },
  {
   "cell_type": "code",
   "execution_count": null,
   "id": "e14a7030-833b-4c87-a6ee-d21f7261ff92",
   "metadata": {},
   "outputs": [],
   "source": [
    "X = train_sample.drop(columns=\"Response\")\n",
    "y = train_sample.Response"
   ]
  },
  {
   "cell_type": "markdown",
   "id": "71595c16-f071-4236-912f-66f726cc2047",
   "metadata": {},
   "source": [
    "## XGBoost"
   ]
  },
  {
   "cell_type": "code",
   "execution_count": null,
   "id": "4510114c-8f9b-4962-8b44-ba4c65a4d1c1",
   "metadata": {},
   "outputs": [],
   "source": [
    "xgb = XGBClassifier(random_state=42, enable_categorical=True, n_jobs=-1, eval_metric=\"auc\")\n",
    "\n",
    "cross_val_score(xgb, X, y, cv=5, n_jobs=-1).mean()"
   ]
  },
  {
   "cell_type": "markdown",
   "id": "9e6ca8f7-34f3-47f6-9a59-2d3a9e1d3ac6",
   "metadata": {},
   "source": [
    "0.8775945833569365"
   ]
  }
 ],
 "metadata": {
  "kernelspec": {
   "display_name": "Python 3 (ipykernel)",
   "language": "python",
   "name": "python3"
  },
  "language_info": {
   "codemirror_mode": {
    "name": "ipython",
    "version": 3
   },
   "file_extension": ".py",
   "mimetype": "text/x-python",
   "name": "python",
   "nbconvert_exporter": "python",
   "pygments_lexer": "ipython3",
   "version": "3.12.2"
  }
 },
 "nbformat": 4,
 "nbformat_minor": 5
}
